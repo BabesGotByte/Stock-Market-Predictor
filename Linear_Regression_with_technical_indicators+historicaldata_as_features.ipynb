{
  "nbformat": 4,
  "nbformat_minor": 0,
  "metadata": {
    "colab": {
      "name": "Linear_Regression_with_technical_indicators+historicaldata_as_features.ipynb",
      "provenance": []
    },
    "kernelspec": {
      "name": "python3",
      "display_name": "Python 3"
    }
  },
  "cells": [
    {
      "cell_type": "markdown",
      "metadata": {
        "id": "_as5ckCSeoeX",
        "colab_type": "text"
      },
      "source": [
        "Features : Technical indicators and historical data"
      ]
    },
    {
      "cell_type": "code",
      "metadata": {
        "id": "mMITS30OY-_l",
        "colab_type": "code",
        "colab": {}
      },
      "source": [
        "import pandas as pd\n",
        "import numpy as np\n",
        "from collections import defaultdict\n",
        "import matplotlib.pyplot as plt\n",
        "from sklearn.linear_model import LinearRegression\n",
        "from sklearn.model_selection import train_test_split\n",
        "import matplotlib.pyplot as plt\n",
        "from matplotlib.pylab import rcParams\n",
        "rcParams['figure.figsize'] = 10,10"
      ],
      "execution_count": 0,
      "outputs": []
    },
    {
      "cell_type": "code",
      "metadata": {
        "id": "fuQbVzUDZBgA",
        "colab_type": "code",
        "colab": {}
      },
      "source": [
        "df=pd.read_csv(\"final.csv\")\n",
        "df=df[df['comp']=='Adani Ports & SEZ']\n",
        "df"
      ],
      "execution_count": 0,
      "outputs": []
    },
    {
      "cell_type": "code",
      "metadata": {
        "id": "wr9rMzcohUaT",
        "colab_type": "code",
        "colab": {
          "base_uri": "https://localhost:8080/",
          "height": 942
        },
        "outputId": "bef127e3-62ee-4c71-edf7-bb2b0170311e"
      },
      "source": [
        "df['adj'] = df[['adj_close']].shift(+1)\n",
        "df"
      ],
      "execution_count": 266,
      "outputs": [
        {
          "output_type": "execute_result",
          "data": {
            "text/html": [
              "<div>\n",
              "<style scoped>\n",
              "    .dataframe tbody tr th:only-of-type {\n",
              "        vertical-align: middle;\n",
              "    }\n",
              "\n",
              "    .dataframe tbody tr th {\n",
              "        vertical-align: top;\n",
              "    }\n",
              "\n",
              "    .dataframe thead th {\n",
              "        text-align: right;\n",
              "    }\n",
              "</style>\n",
              "<table border=\"1\" class=\"dataframe\">\n",
              "  <thead>\n",
              "    <tr style=\"text-align: right;\">\n",
              "      <th></th>\n",
              "      <th>Unnamed: 0</th>\n",
              "      <th>Unnamed: 0.1</th>\n",
              "      <th>Unnamed: 0.1.1</th>\n",
              "      <th>Category</th>\n",
              "      <th>Unnamed: 0.1.1.1</th>\n",
              "      <th>date</th>\n",
              "      <th>high</th>\n",
              "      <th>low</th>\n",
              "      <th>open</th>\n",
              "      <th>close</th>\n",
              "      <th>volume</th>\n",
              "      <th>adj_close</th>\n",
              "      <th>comp</th>\n",
              "      <th>wr</th>\n",
              "      <th>moving_avg</th>\n",
              "      <th>RSI</th>\n",
              "      <th>stoch</th>\n",
              "      <th>adj</th>\n",
              "    </tr>\n",
              "  </thead>\n",
              "  <tbody>\n",
              "    <tr>\n",
              "      <th>0</th>\n",
              "      <td>0</td>\n",
              "      <td>0</td>\n",
              "      <td>0</td>\n",
              "      <td>Transportation</td>\n",
              "      <td>0</td>\n",
              "      <td>01-07-2015</td>\n",
              "      <td>312.700012</td>\n",
              "      <td>306.500000</td>\n",
              "      <td>308.799988</td>\n",
              "      <td>311.299988</td>\n",
              "      <td>2854143</td>\n",
              "      <td>303.809296</td>\n",
              "      <td>Adani Ports &amp; SEZ</td>\n",
              "      <td>-22.580994</td>\n",
              "      <td>311.299988</td>\n",
              "      <td>0.000000</td>\n",
              "      <td>77.419006</td>\n",
              "      <td>NaN</td>\n",
              "    </tr>\n",
              "    <tr>\n",
              "      <th>1</th>\n",
              "      <td>1</td>\n",
              "      <td>1</td>\n",
              "      <td>1</td>\n",
              "      <td>Transportation</td>\n",
              "      <td>1</td>\n",
              "      <td>02-07-2015</td>\n",
              "      <td>319.000000</td>\n",
              "      <td>311.899994</td>\n",
              "      <td>312.450012</td>\n",
              "      <td>316.049988</td>\n",
              "      <td>8669541</td>\n",
              "      <td>308.445007</td>\n",
              "      <td>Adani Ports &amp; SEZ</td>\n",
              "      <td>-23.600098</td>\n",
              "      <td>313.674988</td>\n",
              "      <td>0.000000</td>\n",
              "      <td>76.399902</td>\n",
              "      <td>303.809296</td>\n",
              "    </tr>\n",
              "    <tr>\n",
              "      <th>2</th>\n",
              "      <td>2</td>\n",
              "      <td>2</td>\n",
              "      <td>2</td>\n",
              "      <td>Transportation</td>\n",
              "      <td>2</td>\n",
              "      <td>03-07-2015</td>\n",
              "      <td>325.750000</td>\n",
              "      <td>319.000000</td>\n",
              "      <td>319.950012</td>\n",
              "      <td>320.799988</td>\n",
              "      <td>5189498</td>\n",
              "      <td>313.080688</td>\n",
              "      <td>Adani Ports &amp; SEZ</td>\n",
              "      <td>-25.714349</td>\n",
              "      <td>316.049988</td>\n",
              "      <td>0.000000</td>\n",
              "      <td>74.285651</td>\n",
              "      <td>308.445007</td>\n",
              "    </tr>\n",
              "    <tr>\n",
              "      <th>3</th>\n",
              "      <td>3</td>\n",
              "      <td>3</td>\n",
              "      <td>3</td>\n",
              "      <td>Transportation</td>\n",
              "      <td>3</td>\n",
              "      <td>06-07-2015</td>\n",
              "      <td>321.100006</td>\n",
              "      <td>316.250000</td>\n",
              "      <td>316.950012</td>\n",
              "      <td>320.100006</td>\n",
              "      <td>2853145</td>\n",
              "      <td>312.397553</td>\n",
              "      <td>Adani Ports &amp; SEZ</td>\n",
              "      <td>-29.350618</td>\n",
              "      <td>317.062492</td>\n",
              "      <td>0.000000</td>\n",
              "      <td>70.649382</td>\n",
              "      <td>313.080688</td>\n",
              "    </tr>\n",
              "    <tr>\n",
              "      <th>4</th>\n",
              "      <td>4</td>\n",
              "      <td>4</td>\n",
              "      <td>4</td>\n",
              "      <td>Transportation</td>\n",
              "      <td>4</td>\n",
              "      <td>07-07-2015</td>\n",
              "      <td>334.700012</td>\n",
              "      <td>321.600006</td>\n",
              "      <td>321.799988</td>\n",
              "      <td>333.049988</td>\n",
              "      <td>7877450</td>\n",
              "      <td>325.035919</td>\n",
              "      <td>Adani Ports &amp; SEZ</td>\n",
              "      <td>-5.851148</td>\n",
              "      <td>320.259991</td>\n",
              "      <td>93.137435</td>\n",
              "      <td>94.148852</td>\n",
              "      <td>312.397553</td>\n",
              "    </tr>\n",
              "    <tr>\n",
              "      <th>...</th>\n",
              "      <td>...</td>\n",
              "      <td>...</td>\n",
              "      <td>...</td>\n",
              "      <td>...</td>\n",
              "      <td>...</td>\n",
              "      <td>...</td>\n",
              "      <td>...</td>\n",
              "      <td>...</td>\n",
              "      <td>...</td>\n",
              "      <td>...</td>\n",
              "      <td>...</td>\n",
              "      <td>...</td>\n",
              "      <td>...</td>\n",
              "      <td>...</td>\n",
              "      <td>...</td>\n",
              "      <td>...</td>\n",
              "      <td>...</td>\n",
              "      <td>...</td>\n",
              "    </tr>\n",
              "    <tr>\n",
              "      <th>1169</th>\n",
              "      <td>1169</td>\n",
              "      <td>1169</td>\n",
              "      <td>1169</td>\n",
              "      <td>Transportation</td>\n",
              "      <td>1169</td>\n",
              "      <td>01-04-2020</td>\n",
              "      <td>247.800003</td>\n",
              "      <td>235.050003</td>\n",
              "      <td>246.050003</td>\n",
              "      <td>244.800003</td>\n",
              "      <td>4034211</td>\n",
              "      <td>244.800003</td>\n",
              "      <td>Adani Ports &amp; SEZ</td>\n",
              "      <td>-57.735080</td>\n",
              "      <td>255.099999</td>\n",
              "      <td>33.572445</td>\n",
              "      <td>42.784031</td>\n",
              "      <td>251.300003</td>\n",
              "    </tr>\n",
              "    <tr>\n",
              "      <th>1170</th>\n",
              "      <td>1170</td>\n",
              "      <td>1170</td>\n",
              "      <td>1170</td>\n",
              "      <td>Transportation</td>\n",
              "      <td>1170</td>\n",
              "      <td>03-04-2020</td>\n",
              "      <td>252.800003</td>\n",
              "      <td>238.899994</td>\n",
              "      <td>246.000000</td>\n",
              "      <td>244.800003</td>\n",
              "      <td>7210403</td>\n",
              "      <td>244.800003</td>\n",
              "      <td>Adani Ports &amp; SEZ</td>\n",
              "      <td>-57.215969</td>\n",
              "      <td>252.243333</td>\n",
              "      <td>33.572445</td>\n",
              "      <td>52.022402</td>\n",
              "      <td>244.800003</td>\n",
              "    </tr>\n",
              "    <tr>\n",
              "      <th>1171</th>\n",
              "      <td>1171</td>\n",
              "      <td>1171</td>\n",
              "      <td>1171</td>\n",
              "      <td>Transportation</td>\n",
              "      <td>1171</td>\n",
              "      <td>07-04-2020</td>\n",
              "      <td>255.850006</td>\n",
              "      <td>245.600006</td>\n",
              "      <td>254.199997</td>\n",
              "      <td>248.100006</td>\n",
              "      <td>7360798</td>\n",
              "      <td>248.100006</td>\n",
              "      <td>Adani Ports &amp; SEZ</td>\n",
              "      <td>-43.870563</td>\n",
              "      <td>249.266667</td>\n",
              "      <td>35.331183</td>\n",
              "      <td>56.129437</td>\n",
              "      <td>244.800003</td>\n",
              "    </tr>\n",
              "    <tr>\n",
              "      <th>1172</th>\n",
              "      <td>1172</td>\n",
              "      <td>1172</td>\n",
              "      <td>1172</td>\n",
              "      <td>Transportation</td>\n",
              "      <td>1172</td>\n",
              "      <td>08-04-2020</td>\n",
              "      <td>255.850006</td>\n",
              "      <td>242.750000</td>\n",
              "      <td>248.000000</td>\n",
              "      <td>250.850006</td>\n",
              "      <td>6897792</td>\n",
              "      <td>250.850006</td>\n",
              "      <td>Adani Ports &amp; SEZ</td>\n",
              "      <td>-40.448037</td>\n",
              "      <td>248.563334</td>\n",
              "      <td>36.824605</td>\n",
              "      <td>68.357152</td>\n",
              "      <td>248.100006</td>\n",
              "    </tr>\n",
              "    <tr>\n",
              "      <th>1173</th>\n",
              "      <td>1173</td>\n",
              "      <td>1173</td>\n",
              "      <td>1173</td>\n",
              "      <td>Transportation</td>\n",
              "      <td>1173</td>\n",
              "      <td>09-04-2020</td>\n",
              "      <td>254.600006</td>\n",
              "      <td>247.449997</td>\n",
              "      <td>254.000000</td>\n",
              "      <td>251.899994</td>\n",
              "      <td>5290625</td>\n",
              "      <td>251.899994</td>\n",
              "      <td>Adani Ports &amp; SEZ</td>\n",
              "      <td>-30.142866</td>\n",
              "      <td>247.546667</td>\n",
              "      <td>37.415849</td>\n",
              "      <td>77.007864</td>\n",
              "      <td>250.850006</td>\n",
              "    </tr>\n",
              "  </tbody>\n",
              "</table>\n",
              "<p>1174 rows × 18 columns</p>\n",
              "</div>"
            ],
            "text/plain": [
              "      Unnamed: 0  Unnamed: 0.1  ...      stoch         adj\n",
              "0              0             0  ...  77.419006         NaN\n",
              "1              1             1  ...  76.399902  303.809296\n",
              "2              2             2  ...  74.285651  308.445007\n",
              "3              3             3  ...  70.649382  313.080688\n",
              "4              4             4  ...  94.148852  312.397553\n",
              "...          ...           ...  ...        ...         ...\n",
              "1169        1169          1169  ...  42.784031  251.300003\n",
              "1170        1170          1170  ...  52.022402  244.800003\n",
              "1171        1171          1171  ...  56.129437  244.800003\n",
              "1172        1172          1172  ...  68.357152  248.100006\n",
              "1173        1173          1173  ...  77.007864  250.850006\n",
              "\n",
              "[1174 rows x 18 columns]"
            ]
          },
          "metadata": {
            "tags": []
          },
          "execution_count": 266
        }
      ]
    },
    {
      "cell_type": "code",
      "metadata": {
        "id": "PpayuNil8l_-",
        "colab_type": "code",
        "colab": {}
      },
      "source": [
        "X=df[['adj','wr',\t'moving_avg'\t,'RSI',\t'stoch']]\n",
        "y=df['adj_close']\n",
        "y=np.asarray(y)"
      ],
      "execution_count": 0,
      "outputs": []
    },
    {
      "cell_type": "code",
      "metadata": {
        "id": "UQ_PmK-pZKs8",
        "colab_type": "code",
        "colab": {}
      },
      "source": [
        "X_train=X[1:int(0.8*len(X))]\n",
        "X_train_date=df['date'][1:int(0.8*len(X))]\n",
        "X_test=X[int(0.8*len(X)):]\n",
        "X_test_date=df['date'][int(0.8*len(X)):]\n",
        "y_train=y[1:int(0.8*len(y))]\n",
        "y_test=y[int(0.8*len(y)):]"
      ],
      "execution_count": 0,
      "outputs": []
    },
    {
      "cell_type": "code",
      "metadata": {
        "id": "TFVDB0MBmSXO",
        "colab_type": "code",
        "colab": {}
      },
      "source": [
        "X_test"
      ],
      "execution_count": 0,
      "outputs": []
    },
    {
      "cell_type": "code",
      "metadata": {
        "id": "CMWQ0P7SZNNO",
        "colab_type": "code",
        "colab": {
          "base_uri": "https://localhost:8080/",
          "height": 34
        },
        "outputId": "4a2c7c73-f8b3-430e-918f-987dc2128ac0"
      },
      "source": [
        "model = LinearRegression()\n",
        "model.fit(X_train,y_train)"
      ],
      "execution_count": 270,
      "outputs": [
        {
          "output_type": "execute_result",
          "data": {
            "text/plain": [
              "LinearRegression(copy_X=True, fit_intercept=True, n_jobs=None, normalize=False)"
            ]
          },
          "metadata": {
            "tags": []
          },
          "execution_count": 270
        }
      ]
    },
    {
      "cell_type": "code",
      "metadata": {
        "id": "gvAlIeF9ZP47",
        "colab_type": "code",
        "colab": {
          "base_uri": "https://localhost:8080/",
          "height": 34
        },
        "outputId": "203e5bdc-f39b-4865-df59-4c39fb23f69d"
      },
      "source": [
        "preds = model.predict(X_test)\n",
        "rms=np.sqrt(np.mean(np.power((np.array(y_test)-np.array(preds)),2)))\n",
        "rms"
      ],
      "execution_count": 271,
      "outputs": [
        {
          "output_type": "execute_result",
          "data": {
            "text/plain": [
              "7.21710701059695"
            ]
          },
          "metadata": {
            "tags": []
          },
          "execution_count": 271
        }
      ]
    },
    {
      "cell_type": "code",
      "metadata": {
        "id": "S5pE7-8Tac4D",
        "colab_type": "code",
        "colab": {
          "base_uri": "https://localhost:8080/",
          "height": 592
        },
        "outputId": "5568866c-032a-41be-b711-6084d4190797"
      },
      "source": [
        "plt.plot(X_train_date,y_train, 'blue', label='Training Data')\n",
        "plt.plot(X_test_date,y_test, 'green', label='Testing Data')\n",
        "plt.plot(X_test_date,preds, 'red', label='Predicted Data')\n",
        "plt.legend()\n",
        "plt.show()"
      ],
      "execution_count": 272,
      "outputs": [
        {
          "output_type": "display_data",
          "data": {
            "image/png": "[encoded data removed]",
            "text/plain": [
              "<Figure size 720x720 with 1 Axes>"
            ]
          },
          "metadata": {
            "tags": [],
            "needs_background": "light"
          }
        }
      ]
    }
  ]
}