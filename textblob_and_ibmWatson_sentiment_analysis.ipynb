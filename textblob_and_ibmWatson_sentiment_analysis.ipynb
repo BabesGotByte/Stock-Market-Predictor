{
  "nbformat": 4,
  "nbformat_minor": 0,
  "metadata": {
    "colab": {
      "name": "DM Project harsh.ipynb",
      "provenance": [],
      "collapsed_sections": []
    },
    "kernelspec": {
      "name": "python3",
      "display_name": "Python 3"
    }
  },
  "cells": [
    {
      "cell_type": "markdown",
      "metadata": {
        "id": "sYHn6WPMxsUE",
        "colab_type": "text"
      },
      "source": [
        "# textblob"
      ]
    },
    {
      "cell_type": "code",
      "metadata": {
        "id": "QNSPjQyjwxLI",
        "colab_type": "code",
        "outputId": "be98f8b7-a621-407b-a2f2-f747a7f78d26",
        "colab": {
          "base_uri": "https://localhost:8080/",
          "height": 34
        }
      },
      "source": [
        "#pip install textblob\n",
        "\n",
        "#import nltk\n",
        "from textblob import TextBlob\n",
        "\n",
        "bl1= TextBlob(\"I love california\")\n",
        "print(format(bl1.sentiment))"
      ],
      "execution_count": 0,
      "outputs": [
        {
          "output_type": "stream",
          "text": [
            "Sentiment(polarity=0.5, subjectivity=0.6)\n"
          ],
          "name": "stdout"
        }
      ]
    },
    {
      "cell_type": "markdown",
      "metadata": {
        "id": "RqeBZDX9x0Kb",
        "colab_type": "text"
      },
      "source": [
        "Observation: We can see the output is categorized between two — Polarity and Subjectivity.\n",
        "Polarity is a float value within the range [-1.0 to 1.0] where 0 indicates neutral, +1 indicates a very positive sentiment and -1 represents a very negative sentiment.\n",
        "Subjectivity is a float value within the range [0.0 to 1.0] where 0.0 is very objective and 1.0 is very subjective. Subjective sentence expresses some personal feelings, views, beliefs, opinions, allegations, desires, beliefs, suspicions, and speculations where as Objective sentences are factual."
      ]
    },
    {
      "cell_type": "markdown",
      "metadata": {
        "id": "SjlmN3S1y8fM",
        "colab_type": "text"
      },
      "source": [
        "# IBM Watson"
      ]
    },
    {
      "cell_type": "markdown",
      "metadata": {
        "id": "WcMyuIjkzfx8",
        "colab_type": "text"
      },
      "source": [
        "To get started with using IBM Watson, you have to first sign up for an IBM Cloud account.\n",
        "\n",
        "After you have completed the process, you will be redirected to the catalog page, where you’ll find all the services that you can access on IBM Cloud. On the left sidebar, scroll to the Watson section, click on “Watson” and then you’ll find a list of all the Watson APIs you can leverage to build your application.\n",
        "\n",
        "To access any service, select it and create an instance of that service in your account.\n",
        "\n",
        "\n"
      ]
    },
    {
      "cell_type": "code",
      "metadata": {
        "id": "2px2TkGQxrvr",
        "colab_type": "code",
        "outputId": "b0e3602d-dd12-4918-a462-0e7165348bcb",
        "colab": {
          "base_uri": "https://localhost:8080/",
          "height": 202
        }
      },
      "source": [
        "# api key - pesC9C3iNHxBjGIiu3icxivhCoARgiXBNUG5bMbpSVzW\n",
        "# url - https://api.eu-gb.tone-analyzer.watson.cloud.ibm.com/instances/8b403ccc-e393-48d2-8878-77c510a3698b\n",
        "\n",
        "!pip install --upgrade ibm-watson\n",
        "\n"
      ],
      "execution_count": 0,
      "outputs": [
        {
          "output_type": "stream",
          "text": [
            "Requirement already up-to-date: ibm-watson in /usr/local/lib/python3.6/dist-packages (4.3.0)\n",
            "Requirement already satisfied, skipping upgrade: websocket-client==0.48.0 in /usr/local/lib/python3.6/dist-packages (from ibm-watson) (0.48.0)\n",
            "Requirement already satisfied, skipping upgrade: ibm-cloud-sdk-core==1.5.1 in /usr/local/lib/python3.6/dist-packages (from ibm-watson) (1.5.1)\n",
            "Requirement already satisfied, skipping upgrade: requests<3.0,>=2.0 in /usr/local/lib/python3.6/dist-packages (from ibm-watson) (2.21.0)\n",
            "Requirement already satisfied, skipping upgrade: python-dateutil>=2.5.3 in /usr/local/lib/python3.6/dist-packages (from ibm-watson) (2.6.1)\n",
            "Requirement already satisfied, skipping upgrade: six in /usr/local/lib/python3.6/dist-packages (from websocket-client==0.48.0->ibm-watson) (1.12.0)\n",
            "Requirement already satisfied, skipping upgrade: PyJWT>=1.7.1 in /usr/local/lib/python3.6/dist-packages (from ibm-cloud-sdk-core==1.5.1->ibm-watson) (1.7.1)\n",
            "Requirement already satisfied, skipping upgrade: certifi>=2017.4.17 in /usr/local/lib/python3.6/dist-packages (from requests<3.0,>=2.0->ibm-watson) (2019.11.28)\n",
            "Requirement already satisfied, skipping upgrade: idna<2.9,>=2.5 in /usr/local/lib/python3.6/dist-packages (from requests<3.0,>=2.0->ibm-watson) (2.8)\n",
            "Requirement already satisfied, skipping upgrade: chardet<3.1.0,>=3.0.2 in /usr/local/lib/python3.6/dist-packages (from requests<3.0,>=2.0->ibm-watson) (3.0.4)\n",
            "Requirement already satisfied, skipping upgrade: urllib3<1.25,>=1.21.1 in /usr/local/lib/python3.6/dist-packages (from requests<3.0,>=2.0->ibm-watson) (1.24.3)\n"
          ],
          "name": "stdout"
        }
      ]
    },
    {
      "cell_type": "code",
      "metadata": {
        "id": "09ZKjDMIxBv4",
        "colab_type": "code",
        "colab": {}
      },
      "source": [
        "import json\n",
        "import os\n",
        "from os.path import join\n",
        "from ibm_watson import ToneAnalyzerV3\n",
        "from ibm_watson.tone_analyzer_v3 import ToneInput\n",
        "from ibm_cloud_sdk_core.authenticators import IAMAuthenticator\n",
        "\n",
        "# Authentication via IAM\n",
        "authenticator = IAMAuthenticator('pesC9C3iNHxBjGIiu3icxivhCoARgiXBNUG5bMbpSVzW')\n",
        "service = ToneAnalyzerV3(\n",
        "     version='2017-09-21',\n",
        "     authenticator=authenticator)\n",
        "service.set_service_url('https://api.eu-gb.tone-analyzer.watson.cloud.ibm.com/instances/8b403ccc-e393-48d2-8878-77c510a3698b')\n"
      ],
      "execution_count": 0,
      "outputs": []
    },
    {
      "cell_type": "code",
      "metadata": {
        "id": "HiK_2_1J3L_3",
        "colab_type": "code",
        "outputId": "c0070bc3-35a4-420c-b282-eab6db96801c",
        "colab": {
          "base_uri": "https://localhost:8080/",
          "height": 1000
        }
      },
      "source": [
        "\n",
        "# Authentication via external config like VCAP_SERVICES\n",
        "#service = ToneAnalyzerV3(version='2017-09-21')\n",
        "#service.set_service_url('https://api.eu-gb.tone-analyzer.watson.cloud.ibm.com/instances/8b403ccc-e393-48d2-8878-77c510a3698b')\n",
        "\n",
        "print(\"\\ntone_chat() example 1:\\n\")\n",
        "utterances = [{\n",
        "    'text': 'I am very happy.',\n",
        "    'user': 'glenn'\n",
        "}, {\n",
        "    'text': 'It is a good day.',\n",
        "    'user': 'glenn'\n",
        "}]\n",
        "tone_chat = service.tone_chat(utterances).get_result()\n",
        "print(json.dumps(tone_chat, indent=2))\n",
        "\n",
        "print(\"\\ntone() example 2:\\n\")\n",
        "print(\n",
        "    json.dumps(\n",
        "        service.tone(\n",
        "            tone_input='I am very sad. It is not good.',\n",
        "            content_type=\"text/plain\").get_result(),\n",
        "        indent=2))\n",
        "\n",
        "print(\"\\ntone() example 3:\\n\")\n",
        "tone_input = ToneInput('i am very happy. It is a good day.')\n",
        "tone = service.tone(tone_input=tone_input, content_type=\"application/json\").get_result()\n",
        "print(json.dumps(tone, indent=2))"
      ],
      "execution_count": 0,
      "outputs": [
        {
          "output_type": "stream",
          "text": [
            "\n",
            "tone_chat() example 1:\n",
            "\n",
            "{\n",
            "  \"utterances_tone\": [\n",
            "    {\n",
            "      \"utterance_id\": 0,\n",
            "      \"utterance_text\": \"I am very happy.\",\n",
            "      \"tones\": [\n",
            "        {\n",
            "          \"score\": 0.912181,\n",
            "          \"tone_id\": \"excited\",\n",
            "          \"tone_name\": \"Excited\"\n",
            "        }\n",
            "      ]\n",
            "    },\n",
            "    {\n",
            "      \"utterance_id\": 1,\n",
            "      \"utterance_text\": \"It is a good day.\",\n",
            "      \"tones\": [\n",
            "        {\n",
            "          \"score\": 0.67376,\n",
            "          \"tone_id\": \"excited\",\n",
            "          \"tone_name\": \"Excited\"\n",
            "        },\n",
            "        {\n",
            "          \"score\": 0.722718,\n",
            "          \"tone_id\": \"satisfied\",\n",
            "          \"tone_name\": \"Satisfied\"\n",
            "        }\n",
            "      ]\n",
            "    }\n",
            "  ]\n",
            "}\n",
            "\n",
            "tone() example 2:\n",
            "\n",
            "{\n",
            "  \"document_tone\": {\n",
            "    \"tones\": [\n",
            "      {\n",
            "        \"score\": 0.867316,\n",
            "        \"tone_id\": \"sadness\",\n",
            "        \"tone_name\": \"Sadness\"\n",
            "      },\n",
            "      {\n",
            "        \"score\": 0.986725,\n",
            "        \"tone_id\": \"confident\",\n",
            "        \"tone_name\": \"Confident\"\n",
            "      }\n",
            "    ]\n",
            "  },\n",
            "  \"sentences_tone\": [\n",
            "    {\n",
            "      \"sentence_id\": 0,\n",
            "      \"text\": \"I am very sad.\",\n",
            "      \"tones\": [\n",
            "        {\n",
            "          \"score\": 1.0,\n",
            "          \"tone_id\": \"sadness\",\n",
            "          \"tone_name\": \"Sadness\"\n",
            "        },\n",
            "        {\n",
            "          \"score\": 0.97759,\n",
            "          \"tone_id\": \"confident\",\n",
            "          \"tone_name\": \"Confident\"\n",
            "        }\n",
            "      ]\n",
            "    },\n",
            "    {\n",
            "      \"sentence_id\": 1,\n",
            "      \"text\": \"It is not good.\",\n",
            "      \"tones\": []\n",
            "    }\n",
            "  ]\n",
            "}\n",
            "\n",
            "tone() example 3:\n",
            "\n",
            "{\n",
            "  \"document_tone\": {\n",
            "    \"tones\": [\n",
            "      {\n",
            "        \"score\": 0.962149,\n",
            "        \"tone_id\": \"joy\",\n",
            "        \"tone_name\": \"Joy\"\n",
            "      },\n",
            "      {\n",
            "        \"score\": 0.983213,\n",
            "        \"tone_id\": \"confident\",\n",
            "        \"tone_name\": \"Confident\"\n",
            "      }\n",
            "    ]\n",
            "  },\n",
            "  \"sentences_tone\": [\n",
            "    {\n",
            "      \"sentence_id\": 0,\n",
            "      \"text\": \"i am very happy.\",\n",
            "      \"tones\": [\n",
            "        {\n",
            "          \"score\": 1.0,\n",
            "          \"tone_id\": \"joy\",\n",
            "          \"tone_name\": \"Joy\"\n",
            "        },\n",
            "        {\n",
            "          \"score\": 0.97759,\n",
            "          \"tone_id\": \"confident\",\n",
            "          \"tone_name\": \"Confident\"\n",
            "        }\n",
            "      ]\n",
            "    },\n",
            "    {\n",
            "      \"sentence_id\": 1,\n",
            "      \"text\": \"It is a good day.\",\n",
            "      \"tones\": [\n",
            "        {\n",
            "          \"score\": 0.914543,\n",
            "          \"tone_id\": \"joy\",\n",
            "          \"tone_name\": \"Joy\"\n",
            "        }\n",
            "      ]\n",
            "    }\n",
            "  ]\n",
            "}\n"
          ],
          "name": "stdout"
        }
      ]
    },
    {
      "cell_type": "code",
      "metadata": {
        "id": "ABL8Dr6t_Uec",
        "colab_type": "code",
        "colab": {}
      },
      "source": [
        ""
      ],
      "execution_count": 0,
      "outputs": []
    }
  ]
}